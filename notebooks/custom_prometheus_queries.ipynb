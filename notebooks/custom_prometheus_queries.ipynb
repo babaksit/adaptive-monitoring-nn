{
 "cells": [
  {
   "cell_type": "code",
   "execution_count": 77,
   "metadata": {
    "collapsed": true
   },
   "outputs": [
    {
     "ename": "RuntimeError",
     "evalue": "bad_data: 1:6: parse error: expected type range vector in call to function \"rate\", got instant vector",
     "output_type": "error",
     "traceback": [
      "\u001B[0;31m---------------------------------------------------------------------------\u001B[0m",
      "\u001B[0;31mRuntimeError\u001B[0m                              Traceback (most recent call last)",
      "\u001B[0;32m<ipython-input-77-63f9f0f19975>\u001B[0m in \u001B[0;36m<module>\u001B[0;34m\u001B[0m\n\u001B[1;32m     41\u001B[0m \u001B[0;32mfor\u001B[0m \u001B[0mi\u001B[0m\u001B[0;34m,\u001B[0m \u001B[0mcd\u001B[0m \u001B[0;32min\u001B[0m \u001B[0menumerate\u001B[0m\u001B[0;34m(\u001B[0m\u001B[0mchunked_datetime\u001B[0m\u001B[0;34m)\u001B[0m\u001B[0;34m:\u001B[0m\u001B[0;34m\u001B[0m\u001B[0;34m\u001B[0m\u001B[0m\n\u001B[1;32m     42\u001B[0m     \u001B[0mp\u001B[0m \u001B[0;34m=\u001B[0m \u001B[0mquery\u001B[0m\u001B[0;34m.\u001B[0m\u001B[0mPrometheus\u001B[0m\u001B[0;34m(\u001B[0m\u001B[0;34m\"http://127.0.0.1:9090/\"\u001B[0m\u001B[0;34m)\u001B[0m\u001B[0;34m\u001B[0m\u001B[0;34m\u001B[0m\u001B[0m\n\u001B[0;32m---> 43\u001B[0;31m     \u001B[0mres\u001B[0m \u001B[0;34m=\u001B[0m \u001B[0mp\u001B[0m\u001B[0;34m.\u001B[0m\u001B[0mquery_range\u001B[0m\u001B[0;34m(\u001B[0m\u001B[0;34m'rate(node_disk_info)'\u001B[0m\u001B[0;34m,\u001B[0m \u001B[0mcd\u001B[0m\u001B[0;34m[\u001B[0m\u001B[0;36m0\u001B[0m\u001B[0;34m]\u001B[0m\u001B[0;34m,\u001B[0m \u001B[0mcd\u001B[0m\u001B[0;34m[\u001B[0m\u001B[0;36m1\u001B[0m\u001B[0;34m]\u001B[0m\u001B[0;34m,\u001B[0m \u001B[0;34m\"1s\"\u001B[0m\u001B[0;34m)\u001B[0m\u001B[0;34m\u001B[0m\u001B[0;34m\u001B[0m\u001B[0m\n\u001B[0m\u001B[1;32m     44\u001B[0m     \u001B[0;31m# res = p.query_range('sum(1-rate(node_cpu_seconds_total{mode=\"idle\"}[1m]))', cd[0], cd[1], \"1s\")\u001B[0m\u001B[0;34m\u001B[0m\u001B[0;34m\u001B[0m\u001B[0;34m\u001B[0m\u001B[0m\n\u001B[1;32m     45\u001B[0m     \u001B[0msave_path\u001B[0m \u001B[0;34m=\u001B[0m \u001B[0mos\u001B[0m\u001B[0;34m.\u001B[0m\u001B[0mpath\u001B[0m\u001B[0;34m.\u001B[0m\u001B[0mjoin\u001B[0m\u001B[0;34m(\u001B[0m\u001B[0msave_dir\u001B[0m\u001B[0;34m,\u001B[0m \u001B[0;34m(\u001B[0m\u001B[0;34m'fail_test'\u001B[0m \u001B[0;34m+\u001B[0m \u001B[0;34m\".csv\"\u001B[0m\u001B[0;34m)\u001B[0m\u001B[0;34m)\u001B[0m\u001B[0;34m\u001B[0m\u001B[0;34m\u001B[0m\u001B[0m\n",
      "\u001B[0;32m~/miniconda3/envs/et/lib/python3.8/site-packages/prometheus_pandas/query.py\u001B[0m in \u001B[0;36mquery_range\u001B[0;34m(self, query, start, end, step, timeout)\u001B[0m\n\u001B[1;32m     67\u001B[0m             \u001B[0mparams\u001B[0m\u001B[0;34m[\u001B[0m\u001B[0;34m'timeout'\u001B[0m\u001B[0;34m]\u001B[0m \u001B[0;34m=\u001B[0m \u001B[0m_duration\u001B[0m\u001B[0;34m(\u001B[0m\u001B[0mtimeout\u001B[0m\u001B[0;34m)\u001B[0m\u001B[0;34m\u001B[0m\u001B[0;34m\u001B[0m\u001B[0m\n\u001B[1;32m     68\u001B[0m \u001B[0;34m\u001B[0m\u001B[0m\n\u001B[0;32m---> 69\u001B[0;31m         \u001B[0;32mreturn\u001B[0m \u001B[0mto_pandas\u001B[0m\u001B[0;34m(\u001B[0m\u001B[0mself\u001B[0m\u001B[0;34m.\u001B[0m\u001B[0m_do_query\u001B[0m\u001B[0;34m(\u001B[0m\u001B[0;34m'api/v1/query_range'\u001B[0m\u001B[0;34m,\u001B[0m \u001B[0mparams\u001B[0m\u001B[0;34m)\u001B[0m\u001B[0;34m)\u001B[0m\u001B[0;34m\u001B[0m\u001B[0;34m\u001B[0m\u001B[0m\n\u001B[0m\u001B[1;32m     70\u001B[0m \u001B[0;34m\u001B[0m\u001B[0m\n\u001B[1;32m     71\u001B[0m     \u001B[0;32mdef\u001B[0m \u001B[0m_do_query\u001B[0m\u001B[0;34m(\u001B[0m\u001B[0mself\u001B[0m\u001B[0;34m,\u001B[0m \u001B[0mpath\u001B[0m\u001B[0;34m:\u001B[0m \u001B[0mstr\u001B[0m\u001B[0;34m,\u001B[0m \u001B[0mparams\u001B[0m\u001B[0;34m:\u001B[0m \u001B[0mdict\u001B[0m\u001B[0;34m)\u001B[0m \u001B[0;34m->\u001B[0m \u001B[0mdict\u001B[0m\u001B[0;34m:\u001B[0m\u001B[0;34m\u001B[0m\u001B[0;34m\u001B[0m\u001B[0m\n",
      "\u001B[0;32m~/miniconda3/envs/et/lib/python3.8/site-packages/prometheus_pandas/query.py\u001B[0m in \u001B[0;36m_do_query\u001B[0;34m(self, path, params)\u001B[0m\n\u001B[1;32m     76\u001B[0m         \u001B[0mresponse\u001B[0m \u001B[0;34m=\u001B[0m \u001B[0mresp\u001B[0m\u001B[0;34m.\u001B[0m\u001B[0mjson\u001B[0m\u001B[0;34m(\u001B[0m\u001B[0;34m)\u001B[0m\u001B[0;34m\u001B[0m\u001B[0;34m\u001B[0m\u001B[0m\n\u001B[1;32m     77\u001B[0m         \u001B[0;32mif\u001B[0m \u001B[0mresponse\u001B[0m\u001B[0;34m[\u001B[0m\u001B[0;34m'status'\u001B[0m\u001B[0;34m]\u001B[0m \u001B[0;34m!=\u001B[0m \u001B[0;34m'success'\u001B[0m\u001B[0;34m:\u001B[0m\u001B[0;34m\u001B[0m\u001B[0;34m\u001B[0m\u001B[0m\n\u001B[0;32m---> 78\u001B[0;31m             \u001B[0;32mraise\u001B[0m \u001B[0mRuntimeError\u001B[0m\u001B[0;34m(\u001B[0m\u001B[0;34m'{errorType}: {error}'\u001B[0m\u001B[0;34m.\u001B[0m\u001B[0mformat_map\u001B[0m\u001B[0;34m(\u001B[0m\u001B[0mresponse\u001B[0m\u001B[0;34m)\u001B[0m\u001B[0;34m)\u001B[0m\u001B[0;34m\u001B[0m\u001B[0;34m\u001B[0m\u001B[0m\n\u001B[0m\u001B[1;32m     79\u001B[0m \u001B[0;34m\u001B[0m\u001B[0m\n\u001B[1;32m     80\u001B[0m         \u001B[0;32mreturn\u001B[0m \u001B[0mresponse\u001B[0m\u001B[0;34m[\u001B[0m\u001B[0;34m'data'\u001B[0m\u001B[0;34m]\u001B[0m\u001B[0;34m\u001B[0m\u001B[0;34m\u001B[0m\u001B[0m\n",
      "\u001B[0;31mRuntimeError\u001B[0m: bad_data: 1:6: parse error: expected type range vector in call to function \"rate\", got instant vector"
     ]
    }
   ],
   "source": [
    "import os\n",
    "from datetime import datetime, timedelta\n",
    "from pathlib import Path\n",
    "from dateutil import rrule\n",
    "from prometheus_api_client import PrometheusConnect\n",
    "from prometheus_pandas import query\n",
    "date_format_str = '%Y-%m-%dT%H:%M:%SZ'\n",
    "prom = PrometheusConnect(url=\"http://127.0.0.1:9090/\", disable_ssl=True)\n",
    "\n",
    "p = query.Prometheus(\"http://127.0.0.1:9090/\")\n",
    "res = p.query_range('rate(node_disk_info)', cd[0], cd[1], \"1s\")\n",
    "\n",
    "p.query()"
   ]
  },
  {
   "cell_type": "code",
   "execution_count": null,
   "outputs": [],
   "source": [
    "import os\n",
    "from datetime import datetime, timedelta\n",
    "from pathlib import Path\n",
    "from dateutil import rrule\n",
    "from prometheus_api_client import PrometheusConnect\n",
    "from prometheus_pandas import query\n",
    "date_format_str = '%Y-%m-%dT%H:%M:%SZ'\n",
    "def chunk_datetime(start_time_str: str, end_time_str: str, interval: int = 3):\n",
    "\n",
    "    def hours_aligned(start, end, interval, inc=True):\n",
    "        if inc: yield start\n",
    "        rule = rrule.rrule(rrule.HOURLY, interval=interval, byminute=0, bysecond=0, dtstart=start)\n",
    "        for x in rule.between(start, end, inc=inc):\n",
    "            yield x\n",
    "        if inc: yield end\n",
    "\n",
    "    start_time = datetime.strptime(start_time_str, date_format_str)\n",
    "    end_time = datetime.strptime(end_time_str, date_format_str)\n",
    "    time_list = list(hours_aligned(start_time, end_time, interval))\n",
    "\n",
    "    result = []\n",
    "    for i in range(len(time_list) - 1):\n",
    "        if i == 0:\n",
    "            result.append([time_list[i], time_list[i + 1]])\n",
    "            continue\n",
    "        result.append([time_list[i] + timedelta(seconds=1), time_list[i + 1]])\n",
    "\n",
    "    return result\n",
    "\n",
    "prom = PrometheusConnect(url=\"http://127.0.0.1:9090/\", disable_ssl=True)\n",
    "\n",
    "# prometheus unique save dir\n",
    "prom_save_dir = \"cpu_rate\"\n",
    "# final save dir\n",
    "save_dir = os.path.join(\"data\", prom_save_dir)\n",
    "Path(save_dir).mkdir(parents=True, exist_ok=True)\n",
    "\n",
    "chunked_datetime = chunk_datetime(\"2022-02-18T11:30:00Z\", \"2022-02-25T11:30:00Z\")\n",
    "\n",
    "\n",
    "for i, cd in enumerate(chunked_datetime):\n",
    "    p = query.Prometheus(\"http://127.0.0.1:9090/\")\n",
    "    res = p.query_range('rate(node_disk_info)', cd[0], cd[1], \"1s\")\n",
    "    # res = p.query_range('sum(1-rate(node_cpu_seconds_total{mode=\"idle\"}[1m]))', cd[0], cd[1], \"1s\")\n",
    "    save_path = os.path.join(save_dir, ('fail_test' + \".csv\"))\n",
    "    if i == 0:\n",
    "        res.to_csv(save_path)\n",
    "    else:\n",
    "        res.to_csv(save_path, mode='a', header=False)"
   ],
   "metadata": {
    "collapsed": false,
    "pycharm": {
     "name": "#%%\n"
    }
   }
  },
  {
   "cell_type": "code",
   "execution_count": null,
   "outputs": [],
   "source": [
    "import pandas as pd\n",
    "df = pd.read_csv('data/cpu_rate/rate(node_cpu_seconds_total{mode=\"idle\"}[1m]).csv')\n",
    "column_names = list(df.columns)\n",
    "df.set_index(column_names[0],inplace=True)\n",
    "df.index = pd.to_datetime(df.index, infer_datetime_format=True)\n",
    "# df['Total']= df[column_names[:-1]].sum(axis=1)"
   ],
   "metadata": {
    "collapsed": false,
    "pycharm": {
     "name": "#%%\n"
    }
   }
  },
  {
   "cell_type": "code",
   "execution_count": null,
   "outputs": [],
   "source": [
    "df = df[\"2022-02-18 11:30:00\":]"
   ],
   "metadata": {
    "collapsed": false,
    "pycharm": {
     "name": "#%%\n"
    }
   }
  },
  {
   "cell_type": "code",
   "execution_count": null,
   "outputs": [],
   "source": [
    "df = df.resample(\"1min\").mean()\n",
    "df.plot()"
   ],
   "metadata": {
    "collapsed": false,
    "pycharm": {
     "name": "#%%\n"
    }
   }
  },
  {
   "cell_type": "code",
   "execution_count": null,
   "outputs": [],
   "source": [
    "df.index.name = \"Time\""
   ],
   "metadata": {
    "collapsed": false,
    "pycharm": {
     "name": "#%%\n"
    }
   }
  },
  {
   "cell_type": "code",
   "execution_count": null,
   "outputs": [],
   "source": [
    "df"
   ],
   "metadata": {
    "collapsed": false,
    "pycharm": {
     "name": "#%%\n"
    }
   }
  },
  {
   "cell_type": "code",
   "execution_count": null,
   "outputs": [],
   "source": [
    "df = df.rename(columns={'{}': 'cpu_rate'})"
   ],
   "metadata": {
    "collapsed": false,
    "pycharm": {
     "name": "#%%\n"
    }
   }
  },
  {
   "cell_type": "code",
   "execution_count": null,
   "outputs": [],
   "source": [
    "df.to_csv(\"data/cpu_rate/cpu_rate_test.csv\")"
   ],
   "metadata": {
    "collapsed": false,
    "pycharm": {
     "name": "#%%\n"
    }
   }
  },
  {
   "cell_type": "code",
   "execution_count": 78,
   "outputs": [
    {
     "name": "stdout",
     "output_type": "stream",
     "text": [
      "Mon Feb 28 12:29:53 2022\n"
     ]
    }
   ],
   "source": [
    "import time\n",
    "print(time.ctime())\n"
   ],
   "metadata": {
    "collapsed": false,
    "pycharm": {
     "name": "#%%\n"
    }
   }
  },
  {
   "cell_type": "code",
   "execution_count": null,
   "outputs": [],
   "source": [],
   "metadata": {
    "collapsed": false,
    "pycharm": {
     "name": "#%%\n"
    }
   }
  }
 ],
 "metadata": {
  "kernelspec": {
   "display_name": "Python 3",
   "language": "python",
   "name": "python3"
  },
  "language_info": {
   "codemirror_mode": {
    "name": "ipython",
    "version": 2
   },
   "file_extension": ".py",
   "mimetype": "text/x-python",
   "name": "python",
   "nbconvert_exporter": "python",
   "pygments_lexer": "ipython2",
   "version": "2.7.6"
  }
 },
 "nbformat": 4,
 "nbformat_minor": 0
}