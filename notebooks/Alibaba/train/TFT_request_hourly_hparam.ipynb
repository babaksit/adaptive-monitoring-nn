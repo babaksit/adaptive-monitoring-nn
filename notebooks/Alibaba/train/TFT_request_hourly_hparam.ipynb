{
 "cells": [
  {
   "cell_type": "code",
   "execution_count": 1,
   "metadata": {},
   "outputs": [
    {
     "data": {
      "text/plain": [
       "<Figure size 960x480 with 0 Axes>"
      ]
     },
     "metadata": {},
     "output_type": "display_data"
    }
   ],
   "source": [
    "import torch\n",
    "import numpy as np\n",
    "seed = 37\n",
    "torch.manual_seed(seed)\n",
    "np.random.seed(seed)\n",
    "\n",
    "import sys\n",
    "sys.path.append(\"../../../\")\n",
    "from pipeline.dataset.dataset_loader import DatasetLoader\n",
    "import pandas as pd\n",
    "from darts.models import (\n",
    "    TFTModel,\n",
    ")\n",
    "from darts.utils.likelihood_models import QuantileRegression\n",
    "from darts.dataprocessing.transformers import Scaler\n",
    "import matplotlib.pyplot as plt\n",
    "from darts.metrics import rho_risk\n",
    "import matplotlib.pyplot as plt\n",
    "import tsaug\n",
    "import ray\n",
    "from ray import tune\n",
    "import os\n",
    "from matplotlib.pyplot import figure\n",
    "\n",
    "os.environ[\"CUDA_VISIBLE_DEVICES\"] = \"0\"\n",
    "os.environ[\"LD_LIBRARY_PATH\"] = \"/home/jupyter-babakesistani/.conda/envs/thesis/lib/\"\n",
    "\n",
    "figure(figsize=(8, 4), dpi=120)\n",
    "\n",
    "\n",
    "dl =  DatasetLoader( '../../data/alibaba_hourly_cpu_gpu_mem.csv', \"Time\",\n",
    "                                                                    [\n",
    "                                                                      \"plan_cpu\",\n",
    "                                                                      \"plan_gpu\",\n",
    "                                                                      \"plan_mem\"\n",
    "                                                                     ],\n",
    "                    resample_freq=\"H\", augment=False, \n",
    "                    shift_df_datetime=\"2022-01-04 16:06:00\",\n",
    "                    fill_missing_dates=True)\n",
    "train, val = dl.get_train_val_by_date(\"2022-02-28 23:59:00\")"
   ]
  },
  {
   "cell_type": "code",
   "execution_count": 3,
   "metadata": {},
   "outputs": [],
   "source": [
    "def training_function(config):\n",
    "    \n",
    "    \n",
    "    quantiles = [0.1, 0.5, 0.9]\n",
    "\n",
    "    model = TFTModel(\n",
    "        input_chunk_length=config[\"input_chunk_length\"],\n",
    "        output_chunk_length=config[\"output_chunk_length\"],\n",
    "        hidden_size = 64,\n",
    "        lstm_layers= 4,\n",
    "        num_attention_heads= 8,\n",
    "        optimizer_kwargs= {'lr': 0.001},\n",
    "        n_epochs=100,\n",
    "        dropout=0.1,\n",
    "#         save_checkpoints=True,\n",
    "         add_encoders={\n",
    "        'cyclic': {'past': ['dayofweek', 'hour'] , 'future': ['dayofweek', 'hour']},\n",
    "        \"datetime_attribute\": {\"past\": ['day', \"month\"], \"future\": ['day', \"month\"] },\n",
    "        'transformer': Scaler()\n",
    "        },\n",
    "        likelihood=QuantileRegression(\n",
    "            quantiles=quantiles\n",
    "        ), \n",
    "        work_dir=\".\",\n",
    "        nr_epochs_val_period=1,\n",
    "#         log_tensorboard=True,\n",
    "        random_state=42,\n",
    "        force_reset=True,\n",
    "        torch_device_str='cuda:0'\n",
    "    )\n",
    "    \n",
    "    \n",
    "    model.fit(train, val_series=val)\n",
    "    \n",
    "    pred = model.predict(series=val[:config[\"input_chunk_length\"]], n=config[\"output_chunk_length\"], num_samples=100)\n",
    "    rr = 0.0\n",
    "    for rho in quantiles:\n",
    "        rr += rho_risk(val[config[\"input_chunk_length\"]:], pred, rho=rho)\n",
    "    rr = rr / len(quantiles)\n",
    "    \n",
    "    tune.report(mean_loss=rr)"
   ]
  },
  {
   "cell_type": "code",
   "execution_count": 4,
   "metadata": {},
   "outputs": [
    {
     "data": {
      "text/html": [
       "== Status ==<br>Current time: 2022-04-07 22:21:22 (running for 01:22:05.38)<br>Memory usage on this node: 11.2/93.0 GiB<br>Using FIFO scheduling algorithm.<br>Resources requested: 0/16 CPUs, 0/1 GPUs, 0.0/52.99 GiB heap, 0.0/26.49 GiB objects (0.0/1.0 accelerator_type:RTX)<br>Result logdir: /home/jupyter-babakesistani/adaptive-monitoring-nn/notebooks/Alibaba/train/logs/lstm_hparam/training_function_2022-04-07_20-59-17<br>Number of trials: 36/36 (36 TERMINATED)<br><table>\n",
       "<thead>\n",
       "<tr><th>Trial name                   </th><th>status    </th><th>loc                   </th><th style=\"text-align: right;\">  input_chunk_length</th><th style=\"text-align: right;\">  output_chunk_length</th><th style=\"text-align: right;\">     loss</th><th style=\"text-align: right;\">  iter</th><th style=\"text-align: right;\">  total time (s)</th><th style=\"text-align: right;\">  neg_mean_loss</th></tr>\n",
       "</thead>\n",
       "<tbody>\n",
       "<tr><td>training_function_96955_00000</td><td>TERMINATED</td><td>130.149.248.55:1001813</td><td style=\"text-align: right;\">                   1</td><td style=\"text-align: right;\">                    1</td><td style=\"text-align: right;\">0.140928 </td><td style=\"text-align: right;\">     1</td><td style=\"text-align: right;\">         732.783</td><td style=\"text-align: right;\">     -0.140928 </td></tr>\n",
       "<tr><td>training_function_96955_00001</td><td>TERMINATED</td><td>130.149.248.55:1001806</td><td style=\"text-align: right;\">                   2</td><td style=\"text-align: right;\">                    1</td><td style=\"text-align: right;\">0.0890001</td><td style=\"text-align: right;\">     1</td><td style=\"text-align: right;\">         734.899</td><td style=\"text-align: right;\">     -0.0890001</td></tr>\n",
       "<tr><td>training_function_96955_00002</td><td>TERMINATED</td><td>130.149.248.55:1001812</td><td style=\"text-align: right;\">                   3</td><td style=\"text-align: right;\">                    1</td><td style=\"text-align: right;\">0.115122 </td><td style=\"text-align: right;\">     1</td><td style=\"text-align: right;\">         738.248</td><td style=\"text-align: right;\">     -0.115122 </td></tr>\n",
       "<tr><td>training_function_96955_00003</td><td>TERMINATED</td><td>130.149.248.55:1001808</td><td style=\"text-align: right;\">                   6</td><td style=\"text-align: right;\">                    1</td><td style=\"text-align: right;\">0.378776 </td><td style=\"text-align: right;\">     1</td><td style=\"text-align: right;\">         754.305</td><td style=\"text-align: right;\">     -0.378776 </td></tr>\n",
       "<tr><td>training_function_96955_00004</td><td>TERMINATED</td><td>130.149.248.55:1001800</td><td style=\"text-align: right;\">                   9</td><td style=\"text-align: right;\">                    1</td><td style=\"text-align: right;\">0.426664 </td><td style=\"text-align: right;\">     1</td><td style=\"text-align: right;\">         773.48 </td><td style=\"text-align: right;\">     -0.426664 </td></tr>\n",
       "<tr><td>training_function_96955_00005</td><td>TERMINATED</td><td>130.149.248.55:1001810</td><td style=\"text-align: right;\">                  12</td><td style=\"text-align: right;\">                    1</td><td style=\"text-align: right;\">0.225236 </td><td style=\"text-align: right;\">     1</td><td style=\"text-align: right;\">         791.085</td><td style=\"text-align: right;\">     -0.225236 </td></tr>\n",
       "<tr><td>training_function_96955_00006</td><td>TERMINATED</td><td>130.149.248.55:1001811</td><td style=\"text-align: right;\">                   1</td><td style=\"text-align: right;\">                    2</td><td style=\"text-align: right;\">0.102632 </td><td style=\"text-align: right;\">     1</td><td style=\"text-align: right;\">         733.758</td><td style=\"text-align: right;\">     -0.102632 </td></tr>\n",
       "<tr><td>training_function_96955_00007</td><td>TERMINATED</td><td>130.149.248.55:1001828</td><td style=\"text-align: right;\">                   2</td><td style=\"text-align: right;\">                    2</td><td style=\"text-align: right;\">0.139382 </td><td style=\"text-align: right;\">     1</td><td style=\"text-align: right;\">         733.663</td><td style=\"text-align: right;\">     -0.139382 </td></tr>\n",
       "<tr><td>training_function_96955_00008</td><td>TERMINATED</td><td>130.149.248.55:1001803</td><td style=\"text-align: right;\">                   3</td><td style=\"text-align: right;\">                    2</td><td style=\"text-align: right;\">0.245859 </td><td style=\"text-align: right;\">     1</td><td style=\"text-align: right;\">         999.469</td><td style=\"text-align: right;\">     -0.245859 </td></tr>\n",
       "<tr><td>training_function_96955_00009</td><td>TERMINATED</td><td>130.149.248.55:1001825</td><td style=\"text-align: right;\">                   6</td><td style=\"text-align: right;\">                    2</td><td style=\"text-align: right;\">0.209386 </td><td style=\"text-align: right;\">     1</td><td style=\"text-align: right;\">        1011.79 </td><td style=\"text-align: right;\">     -0.209386 </td></tr>\n",
       "<tr><td>training_function_96955_00010</td><td>TERMINATED</td><td>130.149.248.55:1001802</td><td style=\"text-align: right;\">                   9</td><td style=\"text-align: right;\">                    2</td><td style=\"text-align: right;\">0.817035 </td><td style=\"text-align: right;\">     1</td><td style=\"text-align: right;\">        1017.8  </td><td style=\"text-align: right;\">     -0.817035 </td></tr>\n",
       "<tr><td>training_function_96955_00011</td><td>TERMINATED</td><td>130.149.248.55:1001804</td><td style=\"text-align: right;\">                  12</td><td style=\"text-align: right;\">                    2</td><td style=\"text-align: right;\">0.19971  </td><td style=\"text-align: right;\">     1</td><td style=\"text-align: right;\">        1027.62 </td><td style=\"text-align: right;\">     -0.19971  </td></tr>\n",
       "<tr><td>training_function_96955_00012</td><td>TERMINATED</td><td>130.149.248.55:1001807</td><td style=\"text-align: right;\">                   1</td><td style=\"text-align: right;\">                    3</td><td style=\"text-align: right;\">0.111929 </td><td style=\"text-align: right;\">     1</td><td style=\"text-align: right;\">        1000.58 </td><td style=\"text-align: right;\">     -0.111929 </td></tr>\n",
       "<tr><td>training_function_96955_00013</td><td>TERMINATED</td><td>130.149.248.55:1001809</td><td style=\"text-align: right;\">                   2</td><td style=\"text-align: right;\">                    3</td><td style=\"text-align: right;\">0.0884373</td><td style=\"text-align: right;\">     1</td><td style=\"text-align: right;\">        1007.79 </td><td style=\"text-align: right;\">     -0.0884373</td></tr>\n",
       "<tr><td>training_function_96955_00014</td><td>TERMINATED</td><td>130.149.248.55:1001805</td><td style=\"text-align: right;\">                   3</td><td style=\"text-align: right;\">                    3</td><td style=\"text-align: right;\">0.182473 </td><td style=\"text-align: right;\">     1</td><td style=\"text-align: right;\">        1012.27 </td><td style=\"text-align: right;\">     -0.182473 </td></tr>\n",
       "<tr><td>training_function_96955_00015</td><td>TERMINATED</td><td>130.149.248.55:1001801</td><td style=\"text-align: right;\">                   6</td><td style=\"text-align: right;\">                    3</td><td style=\"text-align: right;\">0.277181 </td><td style=\"text-align: right;\">     1</td><td style=\"text-align: right;\">        1023.15 </td><td style=\"text-align: right;\">     -0.277181 </td></tr>\n",
       "<tr><td>training_function_96955_00016</td><td>TERMINATED</td><td>130.149.248.55:1003692</td><td style=\"text-align: right;\">                   9</td><td style=\"text-align: right;\">                    3</td><td style=\"text-align: right;\">0.863611 </td><td style=\"text-align: right;\">     1</td><td style=\"text-align: right;\">        1111.67 </td><td style=\"text-align: right;\">     -0.863611 </td></tr>\n",
       "<tr><td>training_function_96955_00017</td><td>TERMINATED</td><td>130.149.248.55:1003729</td><td style=\"text-align: right;\">                  12</td><td style=\"text-align: right;\">                    3</td><td style=\"text-align: right;\">0.167725 </td><td style=\"text-align: right;\">     1</td><td style=\"text-align: right;\">        1137.47 </td><td style=\"text-align: right;\">     -0.167725 </td></tr>\n",
       "<tr><td>training_function_96955_00018</td><td>TERMINATED</td><td>130.149.248.55:1003772</td><td style=\"text-align: right;\">                   1</td><td style=\"text-align: right;\">                    6</td><td style=\"text-align: right;\">0.0676741</td><td style=\"text-align: right;\">     1</td><td style=\"text-align: right;\">        1089.25 </td><td style=\"text-align: right;\">     -0.0676741</td></tr>\n",
       "<tr><td>training_function_96955_00019</td><td>TERMINATED</td><td>130.149.248.55:1003811</td><td style=\"text-align: right;\">                   2</td><td style=\"text-align: right;\">                    6</td><td style=\"text-align: right;\">0.109652 </td><td style=\"text-align: right;\">     1</td><td style=\"text-align: right;\">        1094.12 </td><td style=\"text-align: right;\">     -0.109652 </td></tr>\n",
       "<tr><td>training_function_96955_00020</td><td>TERMINATED</td><td>130.149.248.55:1003855</td><td style=\"text-align: right;\">                   3</td><td style=\"text-align: right;\">                    6</td><td style=\"text-align: right;\">0.164863 </td><td style=\"text-align: right;\">     1</td><td style=\"text-align: right;\">        1098.44 </td><td style=\"text-align: right;\">     -0.164863 </td></tr>\n",
       "<tr><td>training_function_96955_00021</td><td>TERMINATED</td><td>130.149.248.55:1003887</td><td style=\"text-align: right;\">                   6</td><td style=\"text-align: right;\">                    6</td><td style=\"text-align: right;\">0.457917 </td><td style=\"text-align: right;\">     1</td><td style=\"text-align: right;\">        1120.5  </td><td style=\"text-align: right;\">     -0.457917 </td></tr>\n",
       "<tr><td>training_function_96955_00022</td><td>TERMINATED</td><td>130.149.248.55:1003953</td><td style=\"text-align: right;\">                   9</td><td style=\"text-align: right;\">                    6</td><td style=\"text-align: right;\">0.097174 </td><td style=\"text-align: right;\">     1</td><td style=\"text-align: right;\">        1147.84 </td><td style=\"text-align: right;\">     -0.097174 </td></tr>\n",
       "<tr><td>training_function_96955_00023</td><td>TERMINATED</td><td>130.149.248.55:1004011</td><td style=\"text-align: right;\">                  12</td><td style=\"text-align: right;\">                    6</td><td style=\"text-align: right;\">0.0698116</td><td style=\"text-align: right;\">     1</td><td style=\"text-align: right;\">        1226.63 </td><td style=\"text-align: right;\">     -0.0698116</td></tr>\n",
       "<tr><td>training_function_96955_00024</td><td>TERMINATED</td><td>130.149.248.55:1004775</td><td style=\"text-align: right;\">                   1</td><td style=\"text-align: right;\">                    9</td><td style=\"text-align: right;\">0.0612025</td><td style=\"text-align: right;\">     1</td><td style=\"text-align: right;\">        1130.14 </td><td style=\"text-align: right;\">     -0.0612025</td></tr>\n",
       "<tr><td>training_function_96955_00025</td><td>TERMINATED</td><td>130.149.248.55:1004812</td><td style=\"text-align: right;\">                   2</td><td style=\"text-align: right;\">                    9</td><td style=\"text-align: right;\">0.193183 </td><td style=\"text-align: right;\">     1</td><td style=\"text-align: right;\">        1137.24 </td><td style=\"text-align: right;\">     -0.193183 </td></tr>\n",
       "<tr><td>training_function_96955_00026</td><td>TERMINATED</td><td>130.149.248.55:1004859</td><td style=\"text-align: right;\">                   3</td><td style=\"text-align: right;\">                    9</td><td style=\"text-align: right;\">0.056394 </td><td style=\"text-align: right;\">     1</td><td style=\"text-align: right;\">        1150.69 </td><td style=\"text-align: right;\">     -0.056394 </td></tr>\n",
       "<tr><td>training_function_96955_00027</td><td>TERMINATED</td><td>130.149.248.55:1004900</td><td style=\"text-align: right;\">                   6</td><td style=\"text-align: right;\">                    9</td><td style=\"text-align: right;\">0.120065 </td><td style=\"text-align: right;\">     1</td><td style=\"text-align: right;\">        1177.42 </td><td style=\"text-align: right;\">     -0.120065 </td></tr>\n",
       "<tr><td>training_function_96955_00028</td><td>TERMINATED</td><td>130.149.248.55:1004949</td><td style=\"text-align: right;\">                   9</td><td style=\"text-align: right;\">                    9</td><td style=\"text-align: right;\">0.0487328</td><td style=\"text-align: right;\">     1</td><td style=\"text-align: right;\">        1288.71 </td><td style=\"text-align: right;\">     -0.0487328</td></tr>\n",
       "<tr><td>training_function_96955_00029</td><td>TERMINATED</td><td>130.149.248.55:1004992</td><td style=\"text-align: right;\">                  12</td><td style=\"text-align: right;\">                    9</td><td style=\"text-align: right;\">0.142563 </td><td style=\"text-align: right;\">     1</td><td style=\"text-align: right;\">        1315.5  </td><td style=\"text-align: right;\">     -0.142563 </td></tr>\n",
       "<tr><td>training_function_96955_00030</td><td>TERMINATED</td><td>130.149.248.55:1005063</td><td style=\"text-align: right;\">                   1</td><td style=\"text-align: right;\">                   12</td><td style=\"text-align: right;\">0.090222 </td><td style=\"text-align: right;\">     1</td><td style=\"text-align: right;\">        1167.23 </td><td style=\"text-align: right;\">     -0.090222 </td></tr>\n",
       "<tr><td>training_function_96955_00031</td><td>TERMINATED</td><td>130.149.248.55:1005179</td><td style=\"text-align: right;\">                   2</td><td style=\"text-align: right;\">                   12</td><td style=\"text-align: right;\">0.0925013</td><td style=\"text-align: right;\">     1</td><td style=\"text-align: right;\">        1163.03 </td><td style=\"text-align: right;\">     -0.0925013</td></tr>\n",
       "<tr><td>training_function_96955_00032</td><td>TERMINATED</td><td>130.149.248.55:1005872</td><td style=\"text-align: right;\">                   3</td><td style=\"text-align: right;\">                   12</td><td style=\"text-align: right;\">0.110402 </td><td style=\"text-align: right;\">     1</td><td style=\"text-align: right;\">         788.614</td><td style=\"text-align: right;\">     -0.110402 </td></tr>\n",
       "<tr><td>training_function_96955_00033</td><td>TERMINATED</td><td>130.149.248.55:1005919</td><td style=\"text-align: right;\">                   6</td><td style=\"text-align: right;\">                   12</td><td style=\"text-align: right;\">0.0904618</td><td style=\"text-align: right;\">     1</td><td style=\"text-align: right;\">         855.339</td><td style=\"text-align: right;\">     -0.0904618</td></tr>\n",
       "<tr><td>training_function_96955_00034</td><td>TERMINATED</td><td>130.149.248.55:1005971</td><td style=\"text-align: right;\">                   9</td><td style=\"text-align: right;\">                   12</td><td style=\"text-align: right;\">0.122987 </td><td style=\"text-align: right;\">     1</td><td style=\"text-align: right;\">         857.16 </td><td style=\"text-align: right;\">     -0.122987 </td></tr>\n",
       "<tr><td>training_function_96955_00035</td><td>TERMINATED</td><td>130.149.248.55:1006032</td><td style=\"text-align: right;\">                  12</td><td style=\"text-align: right;\">                   12</td><td style=\"text-align: right;\">0.255395 </td><td style=\"text-align: right;\">     1</td><td style=\"text-align: right;\">         849.402</td><td style=\"text-align: right;\">     -0.255395 </td></tr>\n",
       "</tbody>\n",
       "</table><br><br>"
      ],
      "text/plain": [
       "<IPython.core.display.HTML object>"
      ]
     },
     "metadata": {},
     "output_type": "display_data"
    },
    {
     "name": "stderr",
     "output_type": "stream",
     "text": [
      "2022-04-07 22:21:22,871\tINFO tune.py:636 -- Total run time: 4925.58 seconds (4925.37 seconds for the tuning loop).\n"
     ]
    },
    {
     "name": "stdout",
     "output_type": "stream",
     "text": [
      "Best config:  {'input_chunk_length': 9, 'output_chunk_length': 9}\n"
     ]
    },
    {
     "name": "stderr",
     "output_type": "stream",
     "text": [
      "/home/jupyter-babakesistani/.conda/envs/thesis/lib/python3.8/site-packages/ray/tune/analysis/experiment_analysis.py:280: UserWarning: Dataframes will use '/' instead of '.' to delimit nested result keys in future versions of Ray. For forward compatibility, set the environment variable TUNE_RESULT_DELIM='/'\n",
      "  warnings.warn(\n"
     ]
    }
   ],
   "source": [
    "max_concurrent_trials = 8\n",
    "analysis = tune.run(\n",
    "    training_function,\n",
    "    max_concurrent_trials=max_concurrent_trials,\n",
    "    resources_per_trial={'cpu': 8.0/max_concurrent_trials, 'gpu': 1.0/max_concurrent_trials},\n",
    "    local_dir=\"logs/tft_req_hparam\",\n",
    "    progress_reporter=tune.JupyterNotebookReporter(overwrite=True),\n",
    "    config={\n",
    "        \"input_chunk_length\": tune.grid_search([1, 2, 3, 6, 9, 12]),\n",
    "        \"output_chunk_length\": tune.grid_search([1, 2, 3, 6, 9, 12]),\n",
    "#         \"hidden_size\": tune.grid_search([25, 75]),\n",
    "# #         \"n_rnn_layers\": tune.grid_search([2]),\n",
    "#         \"batch_size\": tune.grid_search([512]),\n",
    "#         \"dropout\": tune.grid_search([0.1]),\n",
    "    })\n",
    "\n",
    "print(\"Best config: \", analysis.get_best_config(\n",
    "    metric=\"mean_loss\", mode=\"min\"))\n",
    "\n",
    "# Get a dataframe for analyzing trial results.\n",
    "df = analysis.results_df"
   ]
  },
  {
   "cell_type": "code",
   "execution_count": null,
   "metadata": {},
   "outputs": [],
   "source": []
  }
 ],
 "metadata": {
  "kernelspec": {
   "display_name": "thesis",
   "language": "python",
   "name": "thesis"
  },
  "language_info": {
   "codemirror_mode": {
    "name": "ipython",
    "version": 3
   },
   "file_extension": ".py",
   "mimetype": "text/x-python",
   "name": "python",
   "nbconvert_exporter": "python",
   "pygments_lexer": "ipython3",
   "version": "3.8.12"
  }
 },
 "nbformat": 4,
 "nbformat_minor": 4
}
