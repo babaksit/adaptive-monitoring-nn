{
 "cells": [
  {
   "cell_type": "code",
   "execution_count": 12,
   "metadata": {},
   "outputs": [
    {
     "data": {
      "text/plain": [
       "<Figure size 960x480 with 0 Axes>"
      ]
     },
     "metadata": {},
     "output_type": "display_data"
    }
   ],
   "source": [
    "import torch\n",
    "import numpy as np\n",
    "seed = 37\n",
    "torch.manual_seed(seed)\n",
    "np.random.seed(seed)\n",
    "\n",
    "import sys\n",
    "sys.path.append(\"../../../\")\n",
    "from pipeline.dataset.dataset_loader import DatasetLoader\n",
    "import pandas as pd\n",
    "from darts.models import (\n",
    "    TFTModel,\n",
    ")\n",
    "from darts.utils.likelihood_models import QuantileRegression\n",
    "from darts.dataprocessing.transformers import Scaler\n",
    "import matplotlib.pyplot as plt\n",
    "from darts.metrics import rho_risk\n",
    "import matplotlib.pyplot as plt\n",
    "import tsaug\n",
    "import ray\n",
    "from ray import tune\n",
    "import os\n",
    "from matplotlib.pyplot import figure\n",
    "\n",
    "os.environ[\"CUDA_VISIBLE_DEVICES\"] = \"0\"\n",
    "os.environ[\"LD_LIBRARY_PATH\"] = \"/home/jupyter-babakesistani/.conda/envs/thesis/lib/\"\n",
    "\n",
    "figure(figsize=(8, 4), dpi=120)\n",
    "\n",
    "\n",
    "dl =  DatasetLoader( '../../data/alibaba_hourly_cpu_gpu_mem_usage.csv', \"Time\",\n",
    "                                                                    [\n",
    "                                                                      \"cpu_usage\",\n",
    "                                                                      \"gpu_wrk_util\",\n",
    "                                                                      \"avg_gpu_wrk_mem\"\n",
    "                                                                     ],\n",
    "                    resample_freq=\"H\", augment=False, \n",
    "                    shift_df_datetime=\"2022-01-02 00:00:00\",\n",
    "                    fill_missing_dates=True)\n",
    "train, val = dl.get_train_val_by_date(\"2022-02-14 23:59:00\")"
   ]
  },
  {
   "cell_type": "code",
   "execution_count": 13,
   "metadata": {},
   "outputs": [],
   "source": [
    "def training_function(config):\n",
    "    \n",
    "    \n",
    "    quantiles = [0.1, 0.5, 0.9]\n",
    "\n",
    "    model = TFTModel(\n",
    "        input_chunk_length=config[\"input_chunk_length\"],\n",
    "        output_chunk_length=config[\"output_chunk_length\"],\n",
    "        hidden_size = 64,\n",
    "        lstm_layers= 4,\n",
    "        num_attention_heads= 8,\n",
    "        optimizer_kwargs= {'lr': 0.001},\n",
    "        n_epochs=100,\n",
    "        dropout=0.1,\n",
    "#         save_checkpoints=True,\n",
    "         add_encoders={\n",
    "        'cyclic': {'past': ['dayofweek', 'hour'] , 'future': ['dayofweek', 'hour']},\n",
    "        \"datetime_attribute\": {\"past\": ['day', \"month\"], \"future\": ['day', \"month\"] },\n",
    "        'transformer': Scaler()\n",
    "        },\n",
    "        likelihood=QuantileRegression(\n",
    "            quantiles=quantiles\n",
    "        ), \n",
    "        work_dir=\"logs/tft_hparam\",\n",
    "        nr_epochs_val_period=1,\n",
    "#         log_tensorboard=True,\n",
    "        random_state=42,\n",
    "        force_reset=True,\n",
    "        torch_device_str='cuda:0'\n",
    "    )\n",
    "    \n",
    "    \n",
    "    model.fit(train, val_series=val)\n",
    "    \n",
    "    pred = model.predict(series=val[:config[\"input_chunk_length\"]], n=config[\"output_chunk_length\"], num_samples=100)\n",
    "    rr = 0.0\n",
    "    for rho in quantiles:\n",
    "        rr += rho_risk(val[config[\"input_chunk_length\"]:], pred, rho=rho)\n",
    "    rr = rr / len(quantiles)\n",
    "    \n",
    "    tune.report(mean_loss=rr)"
   ]
  },
  {
   "cell_type": "code",
   "execution_count": 14,
   "metadata": {},
   "outputs": [
    {
     "data": {
      "text/html": [
       "== Status ==<br>Current time: 2022-04-07 19:42:12 (running for 00:59:21.71)<br>Memory usage on this node: 8.3/93.0 GiB<br>Using FIFO scheduling algorithm.<br>Resources requested: 0/16 CPUs, 0/1 GPUs, 0.0/39.05 GiB heap, 0.0/19.52 GiB objects (0.0/1.0 accelerator_type:RTX)<br>Result logdir: /home/jupyter-babakesistani/adaptive-monitoring-nn/notebooks/Alibaba/train/logs/lstm_hparam/training_function_2022-04-07_18-42-51<br>Number of trials: 36/36 (36 TERMINATED)<br><table>\n",
       "<thead>\n",
       "<tr><th>Trial name                   </th><th>status    </th><th>loc                  </th><th style=\"text-align: right;\">  input_chunk_length</th><th style=\"text-align: right;\">  output_chunk_length</th><th style=\"text-align: right;\">     loss</th><th style=\"text-align: right;\">  iter</th><th style=\"text-align: right;\">  total time (s)</th><th style=\"text-align: right;\">  neg_mean_loss</th></tr>\n",
       "</thead>\n",
       "<tbody>\n",
       "<tr><td>training_function_874ca_00000</td><td>TERMINATED</td><td>130.149.248.55:994517</td><td style=\"text-align: right;\">                   1</td><td style=\"text-align: right;\">                    1</td><td style=\"text-align: right;\">0.132508 </td><td style=\"text-align: right;\">     1</td><td style=\"text-align: right;\">         563.082</td><td style=\"text-align: right;\">     -0.132508 </td></tr>\n",
       "<tr><td>training_function_874ca_00001</td><td>TERMINATED</td><td>130.149.248.55:994520</td><td style=\"text-align: right;\">                   2</td><td style=\"text-align: right;\">                    1</td><td style=\"text-align: right;\">0.128112 </td><td style=\"text-align: right;\">     1</td><td style=\"text-align: right;\">         567.38 </td><td style=\"text-align: right;\">     -0.128112 </td></tr>\n",
       "<tr><td>training_function_874ca_00002</td><td>TERMINATED</td><td>130.149.248.55:994518</td><td style=\"text-align: right;\">                   3</td><td style=\"text-align: right;\">                    1</td><td style=\"text-align: right;\">0.207099 </td><td style=\"text-align: right;\">     1</td><td style=\"text-align: right;\">         565.094</td><td style=\"text-align: right;\">     -0.207099 </td></tr>\n",
       "<tr><td>training_function_874ca_00003</td><td>TERMINATED</td><td>130.149.248.55:994515</td><td style=\"text-align: right;\">                   6</td><td style=\"text-align: right;\">                    1</td><td style=\"text-align: right;\">0.0797991</td><td style=\"text-align: right;\">     1</td><td style=\"text-align: right;\">         583.976</td><td style=\"text-align: right;\">     -0.0797991</td></tr>\n",
       "<tr><td>training_function_874ca_00004</td><td>TERMINATED</td><td>130.149.248.55:994519</td><td style=\"text-align: right;\">                   9</td><td style=\"text-align: right;\">                    1</td><td style=\"text-align: right;\">0.399823 </td><td style=\"text-align: right;\">     1</td><td style=\"text-align: right;\">         599.908</td><td style=\"text-align: right;\">     -0.399823 </td></tr>\n",
       "<tr><td>training_function_874ca_00005</td><td>TERMINATED</td><td>130.149.248.55:994516</td><td style=\"text-align: right;\">                  12</td><td style=\"text-align: right;\">                    1</td><td style=\"text-align: right;\">0.455193 </td><td style=\"text-align: right;\">     1</td><td style=\"text-align: right;\">         621.684</td><td style=\"text-align: right;\">     -0.455193 </td></tr>\n",
       "<tr><td>training_function_874ca_00006</td><td>TERMINATED</td><td>130.149.248.55:994521</td><td style=\"text-align: right;\">                   1</td><td style=\"text-align: right;\">                    2</td><td style=\"text-align: right;\">0.165946 </td><td style=\"text-align: right;\">     1</td><td style=\"text-align: right;\">         560.679</td><td style=\"text-align: right;\">     -0.165946 </td></tr>\n",
       "<tr><td>training_function_874ca_00007</td><td>TERMINATED</td><td>130.149.248.55:994514</td><td style=\"text-align: right;\">                   2</td><td style=\"text-align: right;\">                    2</td><td style=\"text-align: right;\">0.200923 </td><td style=\"text-align: right;\">     1</td><td style=\"text-align: right;\">         565.429</td><td style=\"text-align: right;\">     -0.200923 </td></tr>\n",
       "<tr><td>training_function_874ca_00008</td><td>TERMINATED</td><td>130.149.248.55:994513</td><td style=\"text-align: right;\">                   3</td><td style=\"text-align: right;\">                    2</td><td style=\"text-align: right;\">0.215764 </td><td style=\"text-align: right;\">     1</td><td style=\"text-align: right;\">         608.999</td><td style=\"text-align: right;\">     -0.215764 </td></tr>\n",
       "<tr><td>training_function_874ca_00009</td><td>TERMINATED</td><td>130.149.248.55:995219</td><td style=\"text-align: right;\">                   6</td><td style=\"text-align: right;\">                    2</td><td style=\"text-align: right;\">0.243974 </td><td style=\"text-align: right;\">     1</td><td style=\"text-align: right;\">         640.249</td><td style=\"text-align: right;\">     -0.243974 </td></tr>\n",
       "<tr><td>training_function_874ca_00010</td><td>TERMINATED</td><td>130.149.248.55:995262</td><td style=\"text-align: right;\">                   9</td><td style=\"text-align: right;\">                    2</td><td style=\"text-align: right;\">0.0976769</td><td style=\"text-align: right;\">     1</td><td style=\"text-align: right;\">         668.214</td><td style=\"text-align: right;\">     -0.0976769</td></tr>\n",
       "<tr><td>training_function_874ca_00011</td><td>TERMINATED</td><td>130.149.248.55:995263</td><td style=\"text-align: right;\">                  12</td><td style=\"text-align: right;\">                    2</td><td style=\"text-align: right;\">0.322672 </td><td style=\"text-align: right;\">     1</td><td style=\"text-align: right;\">         701.068</td><td style=\"text-align: right;\">     -0.322672 </td></tr>\n",
       "<tr><td>training_function_874ca_00012</td><td>TERMINATED</td><td>130.149.248.55:995321</td><td style=\"text-align: right;\">                   1</td><td style=\"text-align: right;\">                    3</td><td style=\"text-align: right;\">0.0987385</td><td style=\"text-align: right;\">     1</td><td style=\"text-align: right;\">         606.995</td><td style=\"text-align: right;\">     -0.0987385</td></tr>\n",
       "<tr><td>training_function_874ca_00013</td><td>TERMINATED</td><td>130.149.248.55:995381</td><td style=\"text-align: right;\">                   2</td><td style=\"text-align: right;\">                    3</td><td style=\"text-align: right;\">0.155993 </td><td style=\"text-align: right;\">     1</td><td style=\"text-align: right;\">         617.76 </td><td style=\"text-align: right;\">     -0.155993 </td></tr>\n",
       "<tr><td>training_function_874ca_00014</td><td>TERMINATED</td><td>130.149.248.55:995428</td><td style=\"text-align: right;\">                   3</td><td style=\"text-align: right;\">                    3</td><td style=\"text-align: right;\">0.216529 </td><td style=\"text-align: right;\">     1</td><td style=\"text-align: right;\">         623.128</td><td style=\"text-align: right;\">     -0.216529 </td></tr>\n",
       "<tr><td>training_function_874ca_00015</td><td>TERMINATED</td><td>130.149.248.55:995485</td><td style=\"text-align: right;\">                   6</td><td style=\"text-align: right;\">                    3</td><td style=\"text-align: right;\">0.196355 </td><td style=\"text-align: right;\">     1</td><td style=\"text-align: right;\">         656.799</td><td style=\"text-align: right;\">     -0.196355 </td></tr>\n",
       "<tr><td>training_function_874ca_00016</td><td>TERMINATED</td><td>130.149.248.55:995911</td><td style=\"text-align: right;\">                   9</td><td style=\"text-align: right;\">                    3</td><td style=\"text-align: right;\">0.095653 </td><td style=\"text-align: right;\">     1</td><td style=\"text-align: right;\">         790.629</td><td style=\"text-align: right;\">     -0.095653 </td></tr>\n",
       "<tr><td>training_function_874ca_00017</td><td>TERMINATED</td><td>130.149.248.55:995952</td><td style=\"text-align: right;\">                  12</td><td style=\"text-align: right;\">                    3</td><td style=\"text-align: right;\">0.336727 </td><td style=\"text-align: right;\">     1</td><td style=\"text-align: right;\">         842.581</td><td style=\"text-align: right;\">     -0.336727 </td></tr>\n",
       "<tr><td>training_function_874ca_00018</td><td>TERMINATED</td><td>130.149.248.55:996010</td><td style=\"text-align: right;\">                   1</td><td style=\"text-align: right;\">                    6</td><td style=\"text-align: right;\">0.118184 </td><td style=\"text-align: right;\">     1</td><td style=\"text-align: right;\">         701.96 </td><td style=\"text-align: right;\">     -0.118184 </td></tr>\n",
       "<tr><td>training_function_874ca_00019</td><td>TERMINATED</td><td>130.149.248.55:996043</td><td style=\"text-align: right;\">                   2</td><td style=\"text-align: right;\">                    6</td><td style=\"text-align: right;\">0.128856 </td><td style=\"text-align: right;\">     1</td><td style=\"text-align: right;\">         716.657</td><td style=\"text-align: right;\">     -0.128856 </td></tr>\n",
       "<tr><td>training_function_874ca_00020</td><td>TERMINATED</td><td>130.149.248.55:996097</td><td style=\"text-align: right;\">                   3</td><td style=\"text-align: right;\">                    6</td><td style=\"text-align: right;\">0.163308 </td><td style=\"text-align: right;\">     1</td><td style=\"text-align: right;\">         746.852</td><td style=\"text-align: right;\">     -0.163308 </td></tr>\n",
       "<tr><td>training_function_874ca_00021</td><td>TERMINATED</td><td>130.149.248.55:996142</td><td style=\"text-align: right;\">                   6</td><td style=\"text-align: right;\">                    6</td><td style=\"text-align: right;\">0.0619097</td><td style=\"text-align: right;\">     1</td><td style=\"text-align: right;\">         802.857</td><td style=\"text-align: right;\">     -0.0619097</td></tr>\n",
       "<tr><td>training_function_874ca_00022</td><td>TERMINATED</td><td>130.149.248.55:996206</td><td style=\"text-align: right;\">                   9</td><td style=\"text-align: right;\">                    6</td><td style=\"text-align: right;\">0.10288  </td><td style=\"text-align: right;\">     1</td><td style=\"text-align: right;\">         861.753</td><td style=\"text-align: right;\">     -0.10288  </td></tr>\n",
       "<tr><td>training_function_874ca_00023</td><td>TERMINATED</td><td>130.149.248.55:996248</td><td style=\"text-align: right;\">                  12</td><td style=\"text-align: right;\">                    6</td><td style=\"text-align: right;\">0.351635 </td><td style=\"text-align: right;\">     1</td><td style=\"text-align: right;\">        1048.33 </td><td style=\"text-align: right;\">     -0.351635 </td></tr>\n",
       "<tr><td>training_function_874ca_00024</td><td>TERMINATED</td><td>130.149.248.55:996732</td><td style=\"text-align: right;\">                   1</td><td style=\"text-align: right;\">                    9</td><td style=\"text-align: right;\">0.163645 </td><td style=\"text-align: right;\">     1</td><td style=\"text-align: right;\">         774.276</td><td style=\"text-align: right;\">     -0.163645 </td></tr>\n",
       "<tr><td>training_function_874ca_00025</td><td>TERMINATED</td><td>130.149.248.55:996781</td><td style=\"text-align: right;\">                   2</td><td style=\"text-align: right;\">                    9</td><td style=\"text-align: right;\">0.160592 </td><td style=\"text-align: right;\">     1</td><td style=\"text-align: right;\">         791.751</td><td style=\"text-align: right;\">     -0.160592 </td></tr>\n",
       "<tr><td>training_function_874ca_00026</td><td>TERMINATED</td><td>130.149.248.55:996846</td><td style=\"text-align: right;\">                   3</td><td style=\"text-align: right;\">                    9</td><td style=\"text-align: right;\">0.111196 </td><td style=\"text-align: right;\">     1</td><td style=\"text-align: right;\">         816.503</td><td style=\"text-align: right;\">     -0.111196 </td></tr>\n",
       "<tr><td>training_function_874ca_00027</td><td>TERMINATED</td><td>130.149.248.55:996886</td><td style=\"text-align: right;\">                   6</td><td style=\"text-align: right;\">                    9</td><td style=\"text-align: right;\">0.0884479</td><td style=\"text-align: right;\">     1</td><td style=\"text-align: right;\">         877.917</td><td style=\"text-align: right;\">     -0.0884479</td></tr>\n",
       "<tr><td>training_function_874ca_00028</td><td>TERMINATED</td><td>130.149.248.55:996962</td><td style=\"text-align: right;\">                   9</td><td style=\"text-align: right;\">                    9</td><td style=\"text-align: right;\">0.170639 </td><td style=\"text-align: right;\">     1</td><td style=\"text-align: right;\">        1070.66 </td><td style=\"text-align: right;\">     -0.170639 </td></tr>\n",
       "<tr><td>training_function_874ca_00029</td><td>TERMINATED</td><td>130.149.248.55:997012</td><td style=\"text-align: right;\">                  12</td><td style=\"text-align: right;\">                    9</td><td style=\"text-align: right;\">0.465496 </td><td style=\"text-align: right;\">     1</td><td style=\"text-align: right;\">        1114.21 </td><td style=\"text-align: right;\">     -0.465496 </td></tr>\n",
       "<tr><td>training_function_874ca_00030</td><td>TERMINATED</td><td>130.149.248.55:997116</td><td style=\"text-align: right;\">                   1</td><td style=\"text-align: right;\">                   12</td><td style=\"text-align: right;\">0.131001 </td><td style=\"text-align: right;\">     1</td><td style=\"text-align: right;\">         835.598</td><td style=\"text-align: right;\">     -0.131001 </td></tr>\n",
       "<tr><td>training_function_874ca_00031</td><td>TERMINATED</td><td>130.149.248.55:997290</td><td style=\"text-align: right;\">                   2</td><td style=\"text-align: right;\">                   12</td><td style=\"text-align: right;\">0.1342   </td><td style=\"text-align: right;\">     1</td><td style=\"text-align: right;\">         832.406</td><td style=\"text-align: right;\">     -0.1342   </td></tr>\n",
       "<tr><td>training_function_874ca_00032</td><td>TERMINATED</td><td>130.149.248.55:997584</td><td style=\"text-align: right;\">                   3</td><td style=\"text-align: right;\">                   12</td><td style=\"text-align: right;\">0.123392 </td><td style=\"text-align: right;\">     1</td><td style=\"text-align: right;\">         693.398</td><td style=\"text-align: right;\">     -0.123392 </td></tr>\n",
       "<tr><td>training_function_874ca_00033</td><td>TERMINATED</td><td>130.149.248.55:997644</td><td style=\"text-align: right;\">                   6</td><td style=\"text-align: right;\">                   12</td><td style=\"text-align: right;\">0.158288 </td><td style=\"text-align: right;\">     1</td><td style=\"text-align: right;\">         745.245</td><td style=\"text-align: right;\">     -0.158288 </td></tr>\n",
       "<tr><td>training_function_874ca_00034</td><td>TERMINATED</td><td>130.149.248.55:997726</td><td style=\"text-align: right;\">                   9</td><td style=\"text-align: right;\">                   12</td><td style=\"text-align: right;\">0.210655 </td><td style=\"text-align: right;\">     1</td><td style=\"text-align: right;\">         715.212</td><td style=\"text-align: right;\">     -0.210655 </td></tr>\n",
       "<tr><td>training_function_874ca_00035</td><td>TERMINATED</td><td>130.149.248.55:997816</td><td style=\"text-align: right;\">                  12</td><td style=\"text-align: right;\">                   12</td><td style=\"text-align: right;\">0.204618 </td><td style=\"text-align: right;\">     1</td><td style=\"text-align: right;\">         684.445</td><td style=\"text-align: right;\">     -0.204618 </td></tr>\n",
       "</tbody>\n",
       "</table><br><br>"
      ],
      "text/plain": [
       "<IPython.core.display.HTML object>"
      ]
     },
     "metadata": {},
     "output_type": "display_data"
    },
    {
     "name": "stderr",
     "output_type": "stream",
     "text": [
      "2022-04-07 19:42:13,090\tINFO tune.py:636 -- Total run time: 3561.84 seconds (3561.70 seconds for the tuning loop).\n"
     ]
    },
    {
     "name": "stdout",
     "output_type": "stream",
     "text": [
      "Best config:  {'input_chunk_length': 6, 'output_chunk_length': 6}\n"
     ]
    }
   ],
   "source": [
    "max_concurrent_trials = 8\n",
    "analysis = tune.run(\n",
    "    training_function,\n",
    "    max_concurrent_trials=max_concurrent_trials,\n",
    "    resources_per_trial={'cpu': 8.0/max_concurrent_trials, 'gpu': 1.0/max_concurrent_trials},\n",
    "    local_dir=\"logs/lstm_hparam\",\n",
    "    progress_reporter=tune.JupyterNotebookReporter(overwrite=True),\n",
    "    config={\n",
    "        \"input_chunk_length\": tune.grid_search([1, 2, 3, 6, 9, 12]),\n",
    "        \"output_chunk_length\": tune.grid_search([1, 2, 3, 6, 9, 12]),\n",
    "#         \"hidden_size\": tune.grid_search([25, 75]),\n",
    "# #         \"n_rnn_layers\": tune.grid_search([2]),\n",
    "#         \"batch_size\": tune.grid_search([512]),\n",
    "#         \"dropout\": tune.grid_search([0.1]),\n",
    "    })\n",
    "\n",
    "print(\"Best config: \", analysis.get_best_config(\n",
    "    metric=\"mean_loss\", mode=\"min\"))\n",
    "\n",
    "# Get a dataframe for analyzing trial results.\n",
    "df = analysis.results_df"
   ]
  },
  {
   "cell_type": "code",
   "execution_count": null,
   "metadata": {},
   "outputs": [],
   "source": []
  }
 ],
 "metadata": {
  "kernelspec": {
   "display_name": "thesis",
   "language": "python",
   "name": "thesis"
  },
  "language_info": {
   "codemirror_mode": {
    "name": "ipython",
    "version": 3
   },
   "file_extension": ".py",
   "mimetype": "text/x-python",
   "name": "python",
   "nbconvert_exporter": "python",
   "pygments_lexer": "ipython3",
   "version": "3.8.12"
  }
 },
 "nbformat": 4,
 "nbformat_minor": 4
}
