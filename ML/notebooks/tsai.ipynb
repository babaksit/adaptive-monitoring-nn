{
 "cells": [
  {
   "cell_type": "code",
   "execution_count": 1,
   "outputs": [
    {
     "name": "stderr",
     "output_type": "stream",
     "text": [
      "/home/bsi/miniconda3/envs/ts/lib/python3.7/site-packages/torch/cuda/__init__.py:80: UserWarning: CUDA initialization: The NVIDIA driver on your system is too old (found version 9010). Please update your GPU driver by downloading and installing a new version from the URL: http://www.nvidia.com/Download/index.aspx Alternatively, go to: https://pytorch.org to install a PyTorch version that has been compiled with your version of the CUDA driver. (Triggered internally at  ../c10/cuda/CUDAFunctions.cpp:112.)\n",
      "  return torch._C._cuda_getDeviceCount() > 0\n"
     ]
    }
   ],
   "source": [
    "import pandas as pd\n",
    "from tsai.all import *\n",
    "import numpy as np\n"
   ],
   "metadata": {
    "collapsed": false,
    "pycharm": {
     "name": "#%%\n"
    }
   }
  },
  {
   "cell_type": "code",
   "execution_count": 2,
   "outputs": [],
   "source": [
    "df = pd.read_csv(\"../../data/non_constant_6000.csv\")\n",
    "# df = df[:100]\n",
    "df[\"var_0\"] = df.index.astype(float)\n",
    "df[\"var_1\"] = df.index.astype(float)\n",
    "df[\"target\"] = df.index.astype(float)\n",
    "# df = df[[\"time_idx\", \"rabbitmq_connection_received_packets\"]]\n",
    "df = df[[\"var_0\", \"var_1\", \"target\"]]\n"
   ],
   "metadata": {
    "collapsed": false,
    "pycharm": {
     "name": "#%%\n"
    }
   }
  },
  {
   "cell_type": "code",
   "execution_count": 3,
   "outputs": [
    {
     "data": {
      "text/plain": "<Figure size 1152x36 with 1 Axes>",
      "image/png": "[encoded data removed]"
     },
     "metadata": {
      "needs_background": "light"
     },
     "output_type": "display_data"
    },
    {
     "data": {
      "text/plain": "(#5940) [(TSTensor(vars:2, len:60, device=cpu), tensor(60.)), (TSTensor(vars:2, len:60, device=cpu), tensor(61.)), (TSTensor(vars:2, len:60, device=cpu), tensor(62.)), (TSTensor(vars:2, len:60, device=cpu), tensor(63.)), (TSTensor(vars:2, len:60, device=cpu), tensor(64.)), (TSTensor(vars:2, len:60, device=cpu), tensor(65.)), (TSTensor(vars:2, len:60, device=cpu), tensor(66.)), (TSTensor(vars:2, len:60, device=cpu), tensor(67.)), (TSTensor(vars:2, len:60, device=cpu), tensor(68.)), (TSTensor(vars:2, len:60, device=cpu), tensor(69.))] ...]"
     },
     "execution_count": 3,
     "metadata": {},
     "output_type": "execute_result"
    }
   ],
   "source": [
    "window_length = 60\n",
    "stride = 1\n",
    "horizon=1\n",
    "X, y = SlidingWindow(window_length, horizon=horizon, get_x=[\"var_0\",\"var_1\"], get_y='target')(df)\n",
    "tfms  = [None, TSRegression()]\n",
    "splits = get_splits(y, valid_size=.2, stratify=True, random_state=23, shuffle=False)\n",
    "dsets = TSDatasets(X, y, tfms=tfms, splits=splits, inplace=True)\n",
    "\n",
    "dsets"
   ],
   "metadata": {
    "collapsed": false,
    "pycharm": {
     "name": "#%%\n"
    }
   }
  },
  {
   "cell_type": "code",
   "execution_count": 6,
   "outputs": [
    {
     "data": {
      "text/plain": "(TSTensor(samples:64, vars:2, len:60, device=cpu),\n tensor([  73.,   92.,  129.,  225.,  247.,  406.,  477.,  547.,  775.,  940.,\n          948., 1041., 1070., 1085., 1104., 1122., 1199., 1200., 1201., 1240.,\n         1368., 1443., 1478., 1496., 1540., 1574., 1675., 1796., 1877., 1971.,\n         2065., 2115., 2327., 2388., 2457., 2501., 2542., 2616., 2633., 2686.,\n         2704., 2879., 2994., 3003., 3059., 3098., 3127., 3200., 3346., 3381.,\n         3514., 3550., 3772., 3848., 4011., 4098., 4139., 4253., 4338., 4341.,\n         4395., 4466., 4732., 4789.]))"
     },
     "execution_count": 6,
     "metadata": {},
     "output_type": "execute_result"
    }
   ],
   "source": [
    "tfms  = [None, [TSRegression()]]\n",
    "batch_tfms = TSStandardize(by_var=True,by_sample=True)\n",
    "dls = get_ts_dls(X, y, splits=splits, tfms=tfms, batch_tfms=batch_tfms, bs=64)\n",
    "#%\n",
    "get_regression_data\n",
    "TSDatasets"
   ],
   "metadata": {
    "collapsed": false,
    "pycharm": {
     "name": "#%%\n"
    }
   }
  }
 ],
 "metadata": {
  "kernelspec": {
   "name": "pycharm-1acf8488",
   "language": "python",
   "display_name": "PyCharm (Adaptive_Monitoring_NN)"
  },
  "language_info": {
   "codemirror_mode": {
    "name": "ipython",
    "version": 2
   },
   "file_extension": ".py",
   "mimetype": "text/x-python",
   "name": "python",
   "nbconvert_exporter": "python",
   "pygments_lexer": "ipython2",
   "version": "2.7.6"
  }
 },
 "nbformat": 4,
 "nbformat_minor": 0
}